{
 "cells": [
  {
   "cell_type": "code",
   "execution_count": null,
   "id": "24d0c875-2101-451f-9411-f1e498050175",
   "metadata": {},
   "outputs": [],
   "source": [
    "#Проект чат-бот который считает % проверенных домашних заданий педагогами и отправляет автоматическое сообщение педагогу, если % проверки ниже 75%"
   ]
  },
  {
   "cell_type": "code",
   "execution_count": 1,
   "id": "e680cb90-951f-4be5-8772-095c6be289b0",
   "metadata": {},
   "outputs": [],
   "source": [
    "import telebot #Библеотека для работы с чат-ботом телеграм\n",
    "import gspread\n",
    "from oauth2client.service_account import ServiceAccountCredentials"
   ]
  },
  {
   "cell_type": "code",
   "execution_count": 2,
   "id": "1921a314-1a6e-430d-81c4-68143b5a3f11",
   "metadata": {},
   "outputs": [],
   "source": [
    "bot = telebot.TeleBot('7809768765:AAHOm3QIEj-TEE-XTWZ9_Y8R0Tn0rzK8hwk')"
   ]
  },
  {
   "cell_type": "code",
   "execution_count": 3,
   "id": "0a098b83-d7d1-4c8d-8e40-f7047b385809",
   "metadata": {},
   "outputs": [],
   "source": [
    "bot.polling(none_stop=True)"
   ]
  },
  {
   "cell_type": "code",
   "execution_count": null,
   "id": "69a75e7c-2a20-49fd-81fd-fe5303aaf16a",
   "metadata": {},
   "outputs": [],
   "source": [
    "# Установите свои учетные данные для Google Sheets\n",
    "SCOPE = [\n",
    "    \"https://spreadsheets.google.com/feeds\",\n",
    "    \"https://www.googleapis.com/auth/spreadsheets\",\n",
    "    \"https://www.googleapis.com/auth/drive.file\",\n",
    "    \"https://www.googleapis.com/auth/drive\"\n",
    "]\n",
    "\n",
    "# Замените на путь к вашему файлу credentials.json\n",
    "CREDENTIALS_FILE = \"C:/Users/1/Desktop/Project (Bot)/projectbot-447014-437b4c89d4a6.json\"\n",
    "credentials = ServiceAccountCredentials.from_json_keyfile_name(CREDENTIALS_FILE, SCOPE)\n",
    "\n",
    "# Подключение к Google Sheets\n",
    "client = gspread.authorize(credentials)\n",
    "spreadsheet_name = \"Отчёт по дз\"\n",
    "sheet = client.open(spreadsheet_name).sheet1\n",
    "\n",
    "# Создание бота\n",
    "bot = telebot.TeleBot('7809768765:AAHOm3QIEj-TEE-XTWZ9_Y8R0Tn0rzK8hwk')\n",
    "\n",
    "@bot.message_handler(commands=['start', 'main', 'hello'])\n",
    "def main(message):\n",
    "    bot.send_message(message.chat.id, f'Привет, {message.from_user.first_name} {message.from_user.last_name}!')\n",
    "\n",
    "@bot.message_handler(commands=['help'])\n",
    "def help_info(message):\n",
    "    bot.send_message(message.chat.id, '<b>Help</b> <em><u>information</u></em>', parse_mode='html')\n",
    "\n",
    "@bot.message_handler()\n",
    "def info(message):\n",
    "    if message.text.lower() == 'привет':\n",
    "        bot.send_message(message.chat.id, f'Привет, {message.from_user.first_name} {message.from_user.last_name}!')\n",
    "    elif message.text.lower() == 'id':\n",
    "        bot.reply_to(message, f'ID: {message.from_user.id}')\n",
    "\n",
    "bot.polling(none_stop=True)\n"
   ]
  }
 ],
 "metadata": {
  "kernelspec": {
   "display_name": "Python 3 (ipykernel)",
   "language": "python",
   "name": "python3"
  },
  "language_info": {
   "codemirror_mode": {
    "name": "ipython",
    "version": 3
   },
   "file_extension": ".py",
   "mimetype": "text/x-python",
   "name": "python",
   "nbconvert_exporter": "python",
   "pygments_lexer": "ipython3",
   "version": "3.12.4"
  }
 },
 "nbformat": 4,
 "nbformat_minor": 5
}
