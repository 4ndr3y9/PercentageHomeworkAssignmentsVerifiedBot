{
 "cells": [
  {
   "cell_type": "code",
   "execution_count": null,
   "id": "24d0c875-2101-451f-9411-f1e498050175",
   "metadata": {},
   "outputs": [],
   "source": [
    "#Проект чат-бот который считает % проверенных домашних заданий педагогами и отправляет автоматическое сообщение педагогу, если % проверки ниже 75%"
   ]
  },
  {
   "cell_type": "code",
   "execution_count": 1,
   "id": "e680cb90-951f-4be5-8772-095c6be289b0",
   "metadata": {},
   "outputs": [],
   "source": [
    "import telebot #Библеотека для работы с чат-ботом телеграм"
   ]
  },
  {
   "cell_type": "code",
   "execution_count": 2,
   "id": "1921a314-1a6e-430d-81c4-68143b5a3f11",
   "metadata": {},
   "outputs": [],
   "source": [
    "bot = telebot.TeleBot('7809768765:AAHOm3QIEj-TEE-XTWZ9_Y8R0Tn0rzK8hwk')"
   ]
  },
  {
   "cell_type": "code",
   "execution_count": 3,
   "id": "0a098b83-d7d1-4c8d-8e40-f7047b385809",
   "metadata": {},
   "outputs": [],
   "source": [
    "bot.polling(none_stop=True)"
   ]
  }
 ],
 "metadata": {
  "kernelspec": {
   "display_name": "Python 3 (ipykernel)",
   "language": "python",
   "name": "python3"
  },
  "language_info": {
   "codemirror_mode": {
    "name": "ipython",
    "version": 3
   },
   "file_extension": ".py",
   "mimetype": "text/x-python",
   "name": "python",
   "nbconvert_exporter": "python",
   "pygments_lexer": "ipython3",
   "version": "3.12.4"
  }
 },
 "nbformat": 4,
 "nbformat_minor": 5
}
