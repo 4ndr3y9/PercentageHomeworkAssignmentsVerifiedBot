{
 "cells": [
  {
   "cell_type": "code",
   "execution_count": 1,
   "id": "24d0c875-2101-451f-9411-f1e498050175",
   "metadata": {},
   "outputs": [],
   "source": [
    "#Проект чат-бот который считает % проверенных домашних заданий педагогами и отправляет автоматическое сообщение педагогу, если % проверки ниже 75%"
   ]
  },
  {
   "cell_type": "code",
   "execution_count": 2,
   "id": "e680cb90-951f-4be5-8772-095c6be289b0",
   "metadata": {},
   "outputs": [],
   "source": [
    "import telebot #Библеотека для работы с чат-ботом телеграм\n",
    "import gspread\n",
    "from oauth2client.service_account import ServiceAccountCredentials"
   ]
  },
  {
   "cell_type": "code",
   "execution_count": null,
   "id": "973526b5-e271-4e30-b14a-d30553377edd",
   "metadata": {},
   "outputs": [
    {
     "name": "stdout",
     "output_type": "stream",
     "text": [
      "Бот запущен. Поток для автоматической отправки сообщений работает...\n"
     ]
    }
   ],
   "source": [
    "import telebot\n",
    "import gspread\n",
    "from oauth2client.service_account import ServiceAccountCredentials\n",
    "import threading\n",
    "import time\n",
    "from datetime import datetime\n",
    "\n",
    "# Установите свои учетные данные для Google Sheets\n",
    "SCOPE = [\n",
    "    \"https://spreadsheets.google.com/feeds\",\n",
    "    \"https://www.googleapis.com/auth/spreadsheets\",\n",
    "    \"https://www.googleapis.com/auth/drive.file\",\n",
    "    \"https://www.googleapis.com/auth/drive\"\n",
    "]\n",
    "\n",
    "# Замените на путь к вашему файлу credentials.json\n",
    "CREDENTIALS_FILE = \"C:/Users/1/Desktop/Project (Bot)/projectbot-447014-437b4c89d4a6.json\"\n",
    "credentials = ServiceAccountCredentials.from_json_keyfile_name(CREDENTIALS_FILE, SCOPE)\n",
    "\n",
    "# Подключение к Google Sheets\n",
    "client = gspread.authorize(credentials)\n",
    "spreadsheet_name = \"Отчёт по дз\"\n",
    "sheet = client.open(spreadsheet_name).sheet1\n",
    "\n",
    "# Создание бота\n",
    "bot = telebot.TeleBot('7809768765:AAHOm3QIEj-TEE-XTWZ9_Y8R0Tn0rzK8hwk')\n",
    "\n",
    "# Ваши Chat ID\n",
    "MY_CHAT_ID = 699343727  # Ваш Chat ID\n",
    "CHAT_ID = 366888178  # Другой Chat ID\n",
    "\n",
    "def send_scheduled_message():\n",
    "    \"\"\"\n",
    "    Поток для автоматической отправки сообщений в заданное время\n",
    "    \"\"\"\n",
    "    target_time = \"17:26\"  # Замените на нужное время (часы:минуты)\n",
    "    while True:\n",
    "        # Текущее время\n",
    "        now = datetime.now().strftime(\"%H:%M\")\n",
    "        if now == target_time:\n",
    "            try:\n",
    "                # Получение данных из таблицы\n",
    "                data = sheet.get_all_values()\n",
    "                \n",
    "                # Форматирование данных для отправки\n",
    "                formatted_data = \"\\n\".join([\"\\t\".join(row) for row in data])\n",
    "                \n",
    "                # Сообщение для отправки\n",
    "                message = f\"Автоматическое сообщение от бота:\\n\\n{formatted_data}\"\n",
    "                \n",
    "                # Отправка сообщений\n",
    "                bot.send_message(MY_CHAT_ID, message)\n",
    "                bot.send_message(CHAT_ID, message)\n",
    "                print(f\"[{datetime.now()}] Сообщения отправлены!\")\n",
    "            except Exception as e:\n",
    "                print(f\"[{datetime.now()}] Ошибка при отправке сообщения: {e}\")\n",
    "            \n",
    "            # Ждём 60 секунд, чтобы избежать повторной отправки в течение той же минуты\n",
    "            time.sleep(60)\n",
    "        else:\n",
    "            # Проверяем каждую секунду\n",
    "            time.sleep(1)\n",
    "\n",
    "# Создание и запуск потока\n",
    "thread = threading.Thread(target=send_scheduled_message, daemon=True)\n",
    "thread.start()\n",
    "\n",
    "@bot.message_handler(commands=['start'])\n",
    "def start(message):\n",
    "    bot.send_message(message.chat.id, f'Привет, {message.from_user.first_name} {message.from_user.last_name}!')\n",
    "\n",
    "@bot.message_handler(commands=['report'])\n",
    "def report(message):\n",
    "\n",
    "    bot.send_message(MY_CHAT_ID, f'Команду /report выполняет: {message.from_user.first_name} {message.from_user.last_name} {message.from_user.username} {message.from_user.id}')\n",
    "    #bot.send_message(MY_CHAT_ID, message)\n",
    "    try:\n",
    "        # Получение данных из таблицы\n",
    "        data = sheet.get_all_values()\n",
    "        \n",
    "        # Форматирование данных для отправки\n",
    "        formatted_data = \"\\n\".join([\"\\t\".join(row) for row in data])\n",
    "        bot.send_message(message.chat.id, f\"Данные из таблицы:\\n{formatted_data}\")\n",
    "    except Exception as e:\n",
    "        bot.send_message(message.chat.id, f\"Ошибка при чтении данных: {e}\")\n",
    "\n",
    "# Запуск бота\n",
    "print(\"Бот запущен. Поток для автоматической отправки сообщений работает...\")\n",
    "bot.polling(none_stop=True)\n"
   ]
  },
  {
   "cell_type": "code",
   "execution_count": null,
   "id": "8b1fa87b-3cf0-4a43-acd7-27d243873c10",
   "metadata": {},
   "outputs": [],
   "source": []
  }
 ],
 "metadata": {
  "kernelspec": {
   "display_name": "Python 3 (ipykernel)",
   "language": "python",
   "name": "python3"
  },
  "language_info": {
   "codemirror_mode": {
    "name": "ipython",
    "version": 3
   },
   "file_extension": ".py",
   "mimetype": "text/x-python",
   "name": "python",
   "nbconvert_exporter": "python",
   "pygments_lexer": "ipython3",
   "version": "3.12.4"
  }
 },
 "nbformat": 4,
 "nbformat_minor": 5
}
